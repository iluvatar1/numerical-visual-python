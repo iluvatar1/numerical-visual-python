{
 "cells": [
  {
   "cell_type": "markdown",
   "metadata": {},
   "source": [
    "# Integration and Visualization of a Dynamic System\n",
    "Author: W. F. Oquendo-Patiño, [william.oquendo@unisabana.edu.co](mail:woquendo@gmail.com)\n",
    "\n",
    "Go to [https://nbviewer.jupyter.org/github/iluvatar1/numerical-visual-python/blob/master/visualization-integration.ipynb](https://nbviewer.jupyter.org/github/iluvatar1/numerical-visual-python/blob/master/visualization-integration.ipynb?flush_cache=true)\n",
    "\n",
    "## Goals\n",
    "* Learn how to easily visualize a 3D system by using vpython (Visual Python)\n",
    "* Learn how to integrate efficiently the equations of motion for a given dynamical system.\n",
    "* Explore some simple examples: particle in a box, parabolic movement (maximum distance), viscous damping, particle inside magnetic field."
   ]
  },
  {
   "cell_type": "markdown",
   "metadata": {},
   "source": [
    "# Pre-requisites\n",
    "- Python installed (you can use the [https://www.continuum.io/why-anaconda](https://www.continuum.io/why-anaconda) python distribution, although you can use any other tool, like the raw python, the Canopy distribution, Pythonxy, etc)\n",
    "- Jupyter notebook installed (included in Ananconda and other distributions)\n",
    "- Vpython installed. For anaconda, you can install vpython (to be used inside the notebook) by executing the following in the terminal\n",
    "        pip install vpython\n",
    "        conda install ipython jupyter notebook numpy matplotlib\n",
    "- Open a jupyter-notebook to play with these codes."
   ]
  },
  {
   "cell_type": "markdown",
   "metadata": {},
   "source": [
    "# Introduction to VPython\n",
    "VPython, [vpython.org](http://vpython.org), is an extension of the Python language aimed to help visualize 3D systems easily. The following is based on the Vpython_intro.pdf manual.\n",
    "\n",
    "Let's create an sphere. \n",
    "\n",
    "**Note: to run any code inside this Jupyter notebook, you have to press shift+enter inside the cell**"
   ]
  },
  {
   "cell_type": "markdown",
   "metadata": {},
   "source": [
    "## Creating an sphere"
   ]
  },
  {
   "cell_type": "code",
   "execution_count": 1,
   "metadata": {
    "collapsed": false
   },
   "outputs": [
    {
     "data": {
      "application/javascript": [
       "require.undef(\"nbextensions/jquery-ui.custom.min\");"
      ],
      "text/plain": [
       "<IPython.core.display.Javascript object>"
      ]
     },
     "metadata": {},
     "output_type": "display_data"
    },
    {
     "data": {
      "application/javascript": [
       "require.undef(\"nbextensions/glow.2.1.min\");"
      ],
      "text/plain": [
       "<IPython.core.display.Javascript object>"
      ]
     },
     "metadata": {},
     "output_type": "display_data"
    },
    {
     "data": {
      "application/javascript": [
       "require.undef(\"nbextensions/glowcomm\");"
      ],
      "text/plain": [
       "<IPython.core.display.Javascript object>"
      ]
     },
     "metadata": {},
     "output_type": "display_data"
    },
    {
     "data": {
      "application/javascript": [
       "require([\"nbextensions/glowcomm\"], function(){console.log(\"glowcomm loaded\");})"
      ],
      "text/plain": [
       "<IPython.core.display.Javascript object>"
      ]
     },
     "metadata": {},
     "output_type": "display_data"
    },
    {
     "data": {
      "text/html": [
       "<div id=\"glowscript\" class=\"glowscript\"></div>"
      ],
      "text/plain": [
       "<IPython.core.display.HTML object>"
      ]
     },
     "metadata": {},
     "output_type": "display_data"
    },
    {
     "data": {
      "application/javascript": [
       "window.__context = { glowscript_container: $(\"#glowscript\").removeAttr(\"id\")}"
      ],
      "text/plain": [
       "<IPython.core.display.Javascript object>"
      ]
     },
     "metadata": {},
     "output_type": "display_data"
    }
   ],
   "source": [
    "import vpython as vp\n",
    "vp.sphere()"
   ]
  },
  {
   "cell_type": "markdown",
   "metadata": {
    "collapsed": true
   },
   "source": [
    "You can also set several properties of the sphere, like color, positions, etc\n",
    "\n",
    "It is useful to setup the display and visualization for future reference. We will also add arrows for the $x, y, z$ axes."
   ]
  },
  {
   "cell_type": "code",
   "execution_count": 3,
   "metadata": {
    "collapsed": false
   },
   "outputs": [
    {
     "data": {
      "text/html": [
       "<div id=\"glowscript\" class=\"glowscript\"></div>"
      ],
      "text/plain": [
       "<IPython.core.display.HTML object>"
      ]
     },
     "metadata": {},
     "output_type": "display_data"
    },
    {
     "data": {
      "application/javascript": [
       "window.__context = { glowscript_container: $(\"#glowscript\").removeAttr(\"id\")}"
      ],
      "text/plain": [
       "<IPython.core.display.Javascript object>"
      ]
     },
     "metadata": {},
     "output_type": "display_data"
    }
   ],
   "source": [
    "import vpython as vp\n",
    "scene = vp.canvas(title=\"3D scene\")\n",
    "# add ball and wall\n",
    "ball = vp.sphere(pos=vp.vector(-5,0,0), radius=0.5, color=vp.color.cyan) \n",
    "wallR = vp.box(pos=vp.vector(6,0,0), size=vp.vector(0.2,12,12), color=vp.color.green)"
   ]
  },
  {
   "cell_type": "markdown",
   "metadata": {},
   "source": [
    "The following shows a complete example of an animation of a particle bouncing against several walls. The integration method is based on the Euler algorithm, and needs to be foxed (is unstable) for more complex situations (This will be done in the next section)."
   ]
  },
  {
   "cell_type": "code",
   "execution_count": 4,
   "metadata": {
    "collapsed": false
   },
   "outputs": [
    {
     "data": {
      "text/html": [
       "<div id=\"glowscript\" class=\"glowscript\"></div>"
      ],
      "text/plain": [
       "<IPython.core.display.HTML object>"
      ]
     },
     "metadata": {},
     "output_type": "display_data"
    },
    {
     "data": {
      "application/javascript": [
       "window.__context = { glowscript_container: $(\"#glowscript\").removeAttr(\"id\")}"
      ],
      "text/plain": [
       "<IPython.core.display.Javascript object>"
      ]
     },
     "metadata": {},
     "output_type": "display_data"
    }
   ],
   "source": [
    "import vpython as vp\n",
    "vp.scene.autoscale = False\n",
    "scene = vp.canvas(title='3D scene')\n",
    "ball = vp.sphere(pos=vp.vector(-5,0,0), radius=0.5, color=vp.color.cyan) \n",
    "wallR = vp.box(pos=vp.vector(+6,0,0), size=vp.vector(0.2,12,12), color=vp.color.green) \n",
    "wallL = vp.box(pos=vp.vector(-6,0,0), size=vp.vector(0.2,12,12), color=vp.color.green) \n",
    "ball.velocity = vp.vector(25,0,0)\n",
    "deltat = 0.005\n",
    "vscale = 0.1\n",
    "varr = vp.arrow(pos=ball.pos, axis=vscale*ball.velocity, color=vp.color.yellow)\n",
    "t=0\n",
    "while t < 3:\n",
    "    vp.rate(100)\n",
    "    if ball.pos.x > wallR.pos.x or ball.pos.x < wallL.pos.x:\n",
    "        ball.velocity.x = -ball.velocity.x\n",
    "    ball.pos = ball.pos + ball.velocity*deltat\n",
    "    varr.pos = ball.pos; varr.axis=vscale*ball.velocity\n",
    "    t = t + deltat\n"
   ]
  },
  {
   "cell_type": "markdown",
   "metadata": {},
   "source": [
    "# Integration of Dynamical Systems\n",
    "The time evolution for a dynamical system is typically expressed in terms of differential equations relating the change in the state of the system. This has its roots on the Newton second law of movement (for constant mass), \n",
    "$$\\vec F_{net} = m\\vec A = m \\frac{d^2x}{dt^2}$$ \n",
    "where $\\vec F_{net} = \\sum F_i$ is the net force (sum of all forces acting on the body), $m$ is its mass, and $\\vec A$ its acceleration. Since the acceleration is the second derivative of the position (or the first derivative of the velocity), then differential equations of second (first) order are expected for the position (velocity). \n",
    "\n",
    "Now, the question is: How to compute the position or velocity as functions of time, given a set of forces acting on a body? For some cases, solutions can be found theoretically. But many cases cannot be solved closely and require a numerical procedure. Typically, time is split in small time-steps of size $\\delta t$, and people tend to apply numerical methods like Runge-Kutta to integrate differential equations and obtain position or velocity at each time step. This is okay for few particles. But, when you have a large system with many interacting particles, Runge-Kutta can be computationally costly since it requires calling the force computation routine several times per time step, with no important increase in precision. There are better approaches for many particles systems, like using Verlet or Leap-Frog integration algorithms. In the following, we will explore the leap-frog algorithm. \n"
   ]
  },
  {
   "cell_type": "markdown",
   "metadata": {},
   "source": [
    "# Leap-frog algorithm\n",
    "First, let's expand the position around $t + \\delta t$, \n",
    "\n",
    "$$\\vec R(t + \\delta t) = \\vec R(t) + \\delta t \\vec V(t) + \\delta t^2 \\vec A(t)/2 + O(\\delta t^3), $$\n",
    "\n",
    "but, from the previous, one can expand around $t + \\delta t/2$ as\n",
    "\n",
    "$$\\vec R(t + \\delta t) = \\vec R(t + \\delta t/2 + \\delta t/2) = \\vec R(t + \\delta t/2) + \\delta t \\vec V(t + \\delta t/2)/2 + (\\delta t/2)^2 \\vec A(t + \\delta t/2)/2 + O(\\delta t^3). $$\n",
    "\n",
    "Also, \n",
    "\n",
    "$$\\vec R(t) = \\vec R(t + \\delta t/2 - \\delta t/2) = \\vec R(t + \\delta t/2) - \\delta t \\vec V(t + \\delta t/2)/2 + (\\delta t/2)^2 \\vec A(t + \\delta t/2)/2 + O(\\delta t^3). $$\n",
    "\n",
    "Finally, by substrating the last two equation and re-grouping,\n",
    "\n",
    "$$\\vec R(t + \\delta t) = \\vec R(t) + \\delta t \\vec V(t + \\delta t/2) + O(\\delta t^3), $$\n",
    "$$\\vec V(t + \\delta t/2) = \\vec V(t - \\delta t/2) + \\delta t \\vec A(t) + O(\\delta t^3). $$\n",
    "\n",
    "This are the expression for the Leap-Frog method. As you can see, you need first to compute $V(t + \\delta t/2)$ to later computer $R(t + \\delta t)$. This algorithm, given the positions, velocities and Forces (accelerations) at time $t$, allows you to compute the next position and velocities at time-step $t+\\delta t$ and $t + \\delta t/2$, respectively.\n",
    "\n",
    "---\n",
    "**NOTE**: What happens when moving from $t = 0$ to $t = 0 + \\delta t$ (first time step)?. At the beginning of the simulation, you have $\\vec R(0)$, $\\vec V(0)$ and $\\vec A(0)$. But, for the first time step, the Leap-Frog equations give\n",
    "\n",
    "$$\\vec V(0 + \\delta t/2) = \\vec V(0 - \\delta t/2) + \\delta t \\vec A(0),$$\n",
    "$$\\vec R(0 + \\delta t) = \\vec R(0) + \\delta t \\vec V(0 + \\delta t/2).$$\n",
    "\n",
    "So you need the velocity at time $t = -\\delta t/2$, not at time $t = 0$. This implies that the method is not \"self-started\", and you need first to change the velocity from its initial value to\n",
    "\n",
    "$$\\vec V(-\\delta t/2) = \\vec V(0) - \\delta t\\vec A(0)/2.$$\n"
   ]
  },
  {
   "cell_type": "markdown",
   "metadata": {},
   "source": [
    "## Particle falling under constant gravity\n",
    "In this part we will use the Leap-Frog method to compute the positions and velocities of a particle falling under gravity. This is a useful test case since we know already the solution to the problem for constant gravity acceleration $\\vec G$: \n",
    "\n",
    "$$\\vec R(t) = \\vec R(0) + t\\vec V(0) + \\frac{dt^2}{2}\\vec G$$\n",
    "\n",
    "We will obtain this solution numerically just by using the Leap-Frog algorithm. The following example implements all of this."
   ]
  },
  {
   "cell_type": "code",
   "execution_count": 1,
   "metadata": {
    "collapsed": false,
    "scrolled": true
   },
   "outputs": [
    {
     "name": "stderr",
     "output_type": "stream",
     "text": [
      "/Users/oquendo/anaconda2/envs/visualpython/lib/python2.7/site-packages/matplotlib/font_manager.py:273: UserWarning: Matplotlib is building the font cache using fc-list. This may take a moment.\n",
      "  warnings.warn('Matplotlib is building the font cache using fc-list. This may take a moment.')\n"
     ]
    },
    {
     "data": {
      "application/javascript": [
       "require.undef(\"nbextensions/jquery-ui.custom.min\");"
      ],
      "text/plain": [
       "<IPython.core.display.Javascript object>"
      ]
     },
     "metadata": {},
     "output_type": "display_data"
    },
    {
     "data": {
      "application/javascript": [
       "require.undef(\"nbextensions/glow.2.1.min\");"
      ],
      "text/plain": [
       "<IPython.core.display.Javascript object>"
      ]
     },
     "metadata": {},
     "output_type": "display_data"
    },
    {
     "data": {
      "application/javascript": [
       "require.undef(\"nbextensions/glowcomm\");"
      ],
      "text/plain": [
       "<IPython.core.display.Javascript object>"
      ]
     },
     "metadata": {},
     "output_type": "display_data"
    },
    {
     "data": {
      "application/javascript": [
       "require([\"nbextensions/glowcomm\"], function(){console.log(\"glowcomm loaded\");})"
      ],
      "text/plain": [
       "<IPython.core.display.Javascript object>"
      ]
     },
     "metadata": {},
     "output_type": "display_data"
    },
    {
     "data": {
      "text/html": [
       "<div id=\"glowscript\" class=\"glowscript\"></div>"
      ],
      "text/plain": [
       "<IPython.core.display.HTML object>"
      ]
     },
     "metadata": {},
     "output_type": "display_data"
    },
    {
     "data": {
      "application/javascript": [
       "window.__context = { glowscript_container: $(\"#glowscript\").removeAttr(\"id\")}"
      ],
      "text/plain": [
       "<IPython.core.display.Javascript object>"
      ]
     },
     "metadata": {},
     "output_type": "display_data"
    },
    {
     "data": {
      "text/html": [
       "<div id=\"glowscript\" class=\"glowscript\"></div>"
      ],
      "text/plain": [
       "<IPython.core.display.HTML object>"
      ]
     },
     "metadata": {},
     "output_type": "display_data"
    },
    {
     "data": {
      "application/javascript": [
       "window.__context = { glowscript_container: $(\"#glowscript\").removeAttr(\"id\")}"
      ],
      "text/plain": [
       "<IPython.core.display.Javascript object>"
      ]
     },
     "metadata": {},
     "output_type": "display_data"
    }
   ],
   "source": [
    "#%matplotlib inline\n",
    "from __future__ import division, print_function\n",
    "import numpy as np\n",
    "import matplotlib.pyplot as plt\n",
    "import vpython as vp\n",
    "\n",
    "# constants\n",
    "G = np.array([0.0, -9.81, 0.0]) # m/s^2\n",
    "MASS = 1.23 # Kg\n",
    "R0 = np.array([2.0, 5.43, 0.0]) # m\n",
    "V0 = np.array([0.0, 9.265, 0.0]) # m/s\n",
    "DT = 0.005\n",
    "T = np.arange(0.0, 2.5, DT)\n",
    "NSTEPS = T.size\n",
    "\n",
    "# start leapfrog\n",
    "def start_integration(V, F, mass, dt):\n",
    "    return V - 0.5*dt*dt*F/mass\n",
    "\n",
    "# evolve through leapfrog\n",
    "def integration(R, V, F, mass, dt):\n",
    "    Vnew = V + dt*F/mass\n",
    "    Rnew = R + dt*Vnew\n",
    "    return Rnew, Vnew\n",
    "\n",
    "# compute net force\n",
    "def force(R, V, mass):\n",
    "    return mass*G\n",
    "\n",
    "# visualization stuff\n",
    "scene = vp.canvas(title='3D scene', center = vp.vector(1, 3, 2))\n",
    "scene.autoscale = False\n",
    "ball = vp.sphere(pos=vp.vector(R0[0], R0[1], R0[2]), radius=0.4, color=vp.color.cyan) \n",
    "ball.velocity = vp.vector(0,0,0)\n",
    "wallB = vp.box(pos=vp.vector(0,0,0), size=vp.vector(8,0.4,-8), color=vp.color.green) \n",
    "vscale = 0.2\n",
    "varr = vp.arrow(pos=ball.pos, axis=vscale*ball.velocity, color=vp.color.yellow)\n",
    "\n",
    "# initial conditions\n",
    "Y = np.zeros(NSTEPS); VY = np.zeros(NSTEPS) # To save only Y coordinates, as function of time\n",
    "Y[0] = R0[1]; VY[0] = V0[1]\n",
    "R = R0; V = V0 ; F = force(R, V, MASS) # Value which changes at each time step\n",
    "V = start_integration(V, F, MASS, DT) # Move Velocity from 0 to -dt/2\n",
    "\n",
    "# main evolution loop\n",
    "it = 1\n",
    "while it < NSTEPS:\n",
    "    F = force(R, V, MASS)\n",
    "    R, V = integration(R, V, F, MASS, DT)\n",
    "    Y[it] = R[1]; VY[it] = V[1]\n",
    "    # visual stuff\n",
    "    vp.rate(200)\n",
    "    ball.pos = vp.vector(R[0], R[1], R[2]); ball.velocity = vp.vector(V[0], V[1], V[2]); \n",
    "    varr.pos = ball.pos; varr.axis=vscale*ball.velocity\n",
    "    # advance time\n",
    "    it = it + 1\n",
    "\n",
    "# plot final trayectorie together with theoretical one\n",
    "plt.plot(T, Y, 'o', label=\"R-lf\")\n",
    "plt.plot(T, R0[1] + V0[1]*T + 0.5*T*T*G[1], '-', label=\"Exact\", lw=3)\n",
    "plt.legend()\n",
    "plt.xlabel(r\"$t(s)$\", fontsize=23)\n",
    "plt.ylabel(r\"$y(m)$\", fontsize=23)\n",
    "plt.savefig(\"tmp.pdf\")\n",
    "#plt.show()"
   ]
  },
  {
   "cell_type": "markdown",
   "metadata": {},
   "source": [
    "### Homework:\n",
    "* Compute the exact initial velocity for the ball to touch the ground, at time $t = 2.5$. Put it inside the code. Is it true that the ball just touches the ground at that time? explain\n",
    "* Compute the difference percentage between the theoretical and the numerical result. How does it decrease with $\\delta t$? Make a plot of the percentage of cumulated error, $\\Delta E = \\sum_{i} |theo_i - num_i|/|theo_i|$ ($i$ denotes the time step) as function of $\\delta t$. What should be the value of $\\delta t$ to get an error less or equal than 1 %?\n",
    "* Add a line to make the particle bounce on the floor. Check.\n",
    "* Plot the velocity as function of time. Is the value as expected? compare woith the theory."
   ]
  },
  {
   "cell_type": "markdown",
   "metadata": {},
   "source": [
    "## Particle inside magnetic field\n",
    "In this case, the force is equal to \n",
    "\n",
    "$$\\vec F = q \\vec V\\times \\vec B ,$$\n",
    "where $\\vec B$ is the magnetic field. In this case we just need to set the value for $\\vec B$ and the force routine. What we expect is that the particle will follow a circular path."
   ]
  },
  {
   "cell_type": "code",
   "execution_count": 2,
   "metadata": {
    "collapsed": false
   },
   "outputs": [
    {
     "data": {
      "text/html": [
       "<div id=\"glowscript\" class=\"glowscript\"></div>"
      ],
      "text/plain": [
       "<IPython.core.display.HTML object>"
      ]
     },
     "metadata": {},
     "output_type": "display_data"
    },
    {
     "data": {
      "application/javascript": [
       "window.__context = { glowscript_container: $(\"#glowscript\").removeAttr(\"id\")}"
      ],
      "text/plain": [
       "<IPython.core.display.Javascript object>"
      ]
     },
     "metadata": {},
     "output_type": "display_data"
    }
   ],
   "source": [
    "%matplotlib inline\n",
    "from __future__ import division, print_function\n",
    "import numpy as np\n",
    "#import matplotlib.pyplot as plt\n",
    "import vpython as vp\n",
    "\n",
    "# constants\n",
    "B = (0, 0, 3.0)\n",
    "MASS = 1.23 # Kg\n",
    "Q = 1.2 \n",
    "R0 = np.array([2.0, 2.0, 0.0]) # m\n",
    "V0 = np.array([0.0, 9.265, 0.0]) # m/s\n",
    "DT = 0.001\n",
    "T = np.arange(0.0, 8.5, DT)\n",
    "NSTEPS = T.size\n",
    "\n",
    "# start leapfrog\n",
    "def start_integration(V, F, mass, dt):\n",
    "    return V - 0.5*dt*dt*F/mass\n",
    "\n",
    "# evolve through leapfrog\n",
    "def integration(R, V, F, mass, dt):\n",
    "    Vnew = V + dt*F/mass\n",
    "    Rnew = R + dt*Vnew\n",
    "    return Rnew, Vnew\n",
    "\n",
    "# compute net force\n",
    "def force(R, V, mass):\n",
    "    return Q*np.cross(V, B)\n",
    "\n",
    "# visualization stuff\n",
    "scene = vp.canvas(title='3D scene', center = vp.vector(4, 2, 2))\n",
    "scene.autoscale = False\n",
    "ball = vp.sphere(pos=vp.vector(R0[0], R0[1], R0[2]), radius=0.4, color=vp.color.cyan) \n",
    "ball.velocity = vp.vector(0,0,0)\n",
    "vscale = 0.2\n",
    "varr = vp.arrow(pos=ball.pos, axis=vscale*ball.velocity, color=vp.color.yellow)\n",
    "ball.trail = vp.curve(color=ball.color)\n",
    "\n",
    "# initial conditions\n",
    "Y = np.zeros(NSTEPS); VY = np.zeros(NSTEPS) # To save only Y coordinates, as function of time\n",
    "Y[0] = R0[1]; VY[0] = V0[1]\n",
    "R = R0; V = V0 ; F = force(R, V, MASS) # Value which changes at each time step\n",
    "V = start_integration(V, F, MASS, DT) # Move Velocity from 0 to -dt/2\n",
    "\n",
    "# main evolution loop\n",
    "it = 1\n",
    "while it < NSTEPS:\n",
    "    F = force(R, V, MASS)\n",
    "    R, V = integration(R, V, F, MASS, DT)\n",
    "    Y[it] = R[1]; VY[it] = V[1]\n",
    "    # visual stuff\n",
    "    vp.rate(200)\n",
    "    ball.pos = vp.vector(R[0], R[1], R[2]); ball.velocity = vp.vector(V[0], V[1], V[2]); \n",
    "    varr.pos = ball.pos; varr.axis=vscale*ball.velocity\n",
    "    ball.trail.append(pos=ball.pos)\n",
    "    # advance time\n",
    "    it = it + 1\n"
   ]
  },
  {
   "cell_type": "markdown",
   "metadata": {},
   "source": [
    "### Homework\n",
    "* Compute the radius of the trajectory. Compare with the theoretical value.\n",
    "* After 5 cycles, is the radius still constant? plot the radius after 5 cycles as function of $\\delta t$. Then give the maximum $\\delta t$ to assure an error less than 1%. "
   ]
  },
  {
   "cell_type": "markdown",
   "metadata": {},
   "source": [
    "## Particle with viscous non-linear damping\n",
    "\n",
    "In this case we will add a viscous non-linear damping of the form\n",
    "\n",
    "$$f_{visc} = -b v^2.$$\n",
    "\n",
    "The general solution for the position cannot be obtained easily, but we can solve numerically the system as before and obtain the approximate behavior. To calibrate the method, we can explore the final value of the limit velocity: The total force for this system is \n",
    "\n",
    "$$\\vec F_{net} = m\\vec g - b\\, \\text{sign}(\\vec V)|\\vec V|^2$$\n",
    "\n",
    "The limit steady velocity is obtained when the acceleration is null. Therefore, for a one-dimensional problem on the $y$ axis we have\n",
    "\n",
    "$$V_{lim} = \\sqrt{\\frac{mg}{b}}$$\n",
    "\n",
    "So, a plot of $V_{lim}$ versus $b$ should be a power law with exponent 1/2. We will use the previous to verify this numerically."
   ]
  },
  {
   "cell_type": "code",
   "execution_count": 3,
   "metadata": {
    "collapsed": false
   },
   "outputs": [
    {
     "data": {
      "image/png": "[encoded data removed]",
      "text/plain": [
       "<matplotlib.figure.Figure at 0x10eb3ac10>"
      ]
     },
     "metadata": {},
     "output_type": "display_data"
    },
    {
     "data": {
      "image/png": "[encoded data removed]",
      "text/plain": [
       "<matplotlib.figure.Figure at 0x11156de90>"
      ]
     },
     "metadata": {},
     "output_type": "display_data"
    }
   ],
   "source": [
    "%matplotlib inline\n",
    "from __future__ import division, print_function\n",
    "import numpy as np\n",
    "import matplotlib.pyplot as plt\n",
    "\n",
    "# constants\n",
    "G = np.array([0.0, -9.81, 0.0]) # m/s^2\n",
    "MASS = 1.23 # Kg\n",
    "B = 0.1 # N s^2/m^2\n",
    "R0 = np.array([2.0, 5.43, 0.0]) # m\n",
    "V0 = np.array([0.0, 19.265, 0.0]) # m/s\n",
    "DT = 0.01\n",
    "T = np.arange(0.0, 6.5, DT)\n",
    "NSTEPS = T.size\n",
    "\n",
    "# start leapfrog\n",
    "def start_integration(V, F, mass, dt):\n",
    "    return V - 0.5*dt*dt*F/mass\n",
    "\n",
    "# evolve through leapfrog\n",
    "def integration(R, V, F, mass, dt):\n",
    "    Vnew = V + dt*F/mass\n",
    "    Rnew = R + dt*Vnew\n",
    "    return Rnew, Vnew\n",
    "\n",
    "# compute net force\n",
    "def force(R, V, mass, b):\n",
    "    return mass*G - b*np.sign(V)*V*V # VERY SIMPLE CHANGE, everything else is the same\n",
    "\n",
    "def evolve(b):\n",
    "    # initial conditions\n",
    "    Y = np.zeros(NSTEPS); VY = np.zeros(NSTEPS) # To save only Y coordinates, as function of time\n",
    "    Y[0] = R0[1]; VY[0] = V0[1]\n",
    "    R = R0; V = V0 ; F = force(R, V, MASS, b) # Value which changes at each time step\n",
    "    V = start_integration(V, F, MASS, DT) # Move Velocity from 0 to -dt/2\n",
    "\n",
    "    # main evolution loop\n",
    "    it = 1\n",
    "    while it < NSTEPS:\n",
    "        F = force(R, V, MASS, b)\n",
    "        R, V = integration(R, V, F, MASS, DT)\n",
    "        Y[it] = R[1]; VY[it] = V[1]\n",
    "        # advance time\n",
    "        it = it + 1\n",
    "    # plot final trayectorie together with theoretical one\n",
    "    plt.plot(T, VY, '-', label=r\"$b = {0:5.3f}$\".format(b))    \n",
    "    # return the latest velocity\n",
    "    return V[1]\n",
    "\n",
    "B = np.linspace(0.1, 0.9, 9)\n",
    "Vlim = np.zeros_like(B)\n",
    "ii = 0\n",
    "for b in B:\n",
    "    Vlim[ii] = evolve(b)\n",
    "    ii = ii +1\n",
    "plt.legend()\n",
    "plt.xlabel(r\"$t(s)$\", fontsize=23)\n",
    "plt.ylabel(r\"$y(m)$\", fontsize=23)\n",
    "plt.savefig(\"tmp.pdf\")\n",
    "plt.show()\n",
    "plt.loglog(B, -1*Vlim, 'o', label='Numerical')\n",
    "plt.loglog(B, np.sqrt(-MASS*G[1]/B), '-', label=\"Theoretical\", lw=2)\n",
    "plt.xlabel(r\"$b (Nm^2/s^2)$\", fontsize=23)\n",
    "plt.ylabel(r\"$V_{lim} (m/s)$\", fontsize=23)\n",
    "plt.legend()\n",
    "plt.show()"
   ]
  },
  {
   "cell_type": "code",
   "execution_count": null,
   "metadata": {
    "collapsed": true
   },
   "outputs": [],
   "source": []
  }
 ],
 "metadata": {
  "kernelspec": {
   "display_name": "Python 2",
   "language": "python",
   "name": "python2"
  },
  "language_info": {
   "codemirror_mode": {
    "name": "ipython",
    "version": 2
   },
   "file_extension": ".py",
   "mimetype": "text/x-python",
   "name": "python",
   "nbconvert_exporter": "python",
   "pygments_lexer": "ipython2",
   "version": "2.7.11"
  }
 },
 "nbformat": 4,
 "nbformat_minor": 0
}
